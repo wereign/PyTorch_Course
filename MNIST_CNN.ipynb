{
 "cells": [
  {
   "cell_type": "code",
   "execution_count": 2,
   "metadata": {},
   "outputs": [
    {
     "name": "stderr",
     "output_type": "stream",
     "text": [
      "c:\\Users\\ila66\\anaconda3\\envs\\pytorchenv\\lib\\site-packages\\sklearn\\utils\\validation.py:37: DeprecationWarning: distutils Version classes are deprecated. Use packaging.version instead.\n",
      "  LARGE_SPARSE_SUPPORTED = LooseVersion(scipy_version) >= '0.14.0'\n"
     ]
    }
   ],
   "source": [
    "import torch\n",
    "import torch.nn as nn\n",
    "import torch.nn.functional as F\n",
    "from torch.utils.data import DataLoader\n",
    "from torchvision import datasets, transforms\n",
    "from torchvision.utils import make_grid\n",
    "\n",
    "import numpy as np\n",
    "import pandas as pd\n",
    "from sklearn.metrics import confusion_matrix\n",
    "import matplotlib.pyplot as plt\n",
    "%matplotlib inline"
   ]
  },
  {
   "cell_type": "code",
   "execution_count": 3,
   "metadata": {},
   "outputs": [],
   "source": [
    "transform = transforms.ToTensor()\n",
    "\n",
    "train_data = datasets.MNIST(root='./PYTORCH_NOTEBOOKS/Data/',download=True,train=True,transform=transform)\n",
    "\n",
    "\n",
    "test_data = datasets.MNIST(root='./PYTORCH_NOTEBOOKS/Data/',download=True,train=False,transform=transform)"
   ]
  },
  {
   "cell_type": "code",
   "execution_count": 4,
   "metadata": {},
   "outputs": [
    {
     "data": {
      "text/plain": [
       "Dataset MNIST\n",
       "    Number of datapoints: 60000\n",
       "    Split: train\n",
       "    Root Location: ./PYTORCH_NOTEBOOKS/Data/\n",
       "    Transforms (if any): ToTensor()\n",
       "    Target Transforms (if any): None"
      ]
     },
     "execution_count": 4,
     "metadata": {},
     "output_type": "execute_result"
    }
   ],
   "source": [
    "train_data"
   ]
  },
  {
   "cell_type": "code",
   "execution_count": 5,
   "metadata": {},
   "outputs": [
    {
     "data": {
      "text/plain": [
       "Dataset MNIST\n",
       "    Number of datapoints: 10000\n",
       "    Split: test\n",
       "    Root Location: ./PYTORCH_NOTEBOOKS/Data/\n",
       "    Transforms (if any): ToTensor()\n",
       "    Target Transforms (if any): None"
      ]
     },
     "execution_count": 5,
     "metadata": {},
     "output_type": "execute_result"
    }
   ],
   "source": [
    "test_data"
   ]
  },
  {
   "cell_type": "code",
   "execution_count": 6,
   "metadata": {},
   "outputs": [],
   "source": [
    "train_loader = DataLoader(train_data,batch_size=10,shuffle=True)\n",
    "test_loader = DataLoader(test_data,batch_size=10,shuffle=False)"
   ]
  },
  {
   "cell_type": "markdown",
   "metadata": {},
   "source": [
    "Breaking down the working of convolutional layer\n",
    "\n",
    "- Conv2d Parameters\n",
    "1. In_Channels - Input Parameters\n",
    "2. Out_Channels - Out Parameters\n",
    "3. Kernel Size - Order of the kernel"
   ]
  },
  {
   "cell_type": "code",
   "execution_count": 7,
   "metadata": {},
   "outputs": [],
   "source": [
    "conv1 = nn.Conv2d(in_channels=1,out_channels=6,kernel_size=3,stride=1)   # A 2 Dimensional Convolutional Layer\n",
    "conv2 = nn.Conv2d(in_channels=6,out_channels=16,kernel_size=3,stride=1)"
   ]
  },
  {
   "cell_type": "code",
   "execution_count": 8,
   "metadata": {},
   "outputs": [],
   "source": [
    "for i, (X_train,y_train) in enumerate(train_data):\n",
    "    break"
   ]
  },
  {
   "cell_type": "code",
   "execution_count": 9,
   "metadata": {},
   "outputs": [
    {
     "name": "stdout",
     "output_type": "stream",
     "text": [
      "torch.Size([1, 28, 28])\n"
     ]
    }
   ],
   "source": [
    "print(X_train.shape)  # Converting to four dimensions to make it resemble a batch\n",
    "x = X_train.view(1,1,28,28)"
   ]
  },
  {
   "cell_type": "code",
   "execution_count": 10,
   "metadata": {},
   "outputs": [
    {
     "name": "stdout",
     "output_type": "stream",
     "text": [
      "torch.Size([1, 6, 26, 26])\n"
     ]
    }
   ],
   "source": [
    "x = F.relu(conv1(x))\n",
    "\n",
    "print(x.shape)\n"
   ]
  },
  {
   "cell_type": "code",
   "execution_count": 11,
   "metadata": {},
   "outputs": [
    {
     "name": "stdout",
     "output_type": "stream",
     "text": [
      "torch.Size([1, 6, 13, 13])\n"
     ]
    }
   ],
   "source": [
    "x = F.max_pool2d(x,2,2)\n",
    "print(x.shape) # Cutting the size in half , due to the pooling function"
   ]
  },
  {
   "cell_type": "code",
   "execution_count": 12,
   "metadata": {},
   "outputs": [
    {
     "name": "stdout",
     "output_type": "stream",
     "text": [
      "torch.Size([1, 16, 11, 11])\n"
     ]
    }
   ],
   "source": [
    "x = F.relu(conv2(x))\n",
    "print(x.shape)"
   ]
  },
  {
   "cell_type": "code",
   "execution_count": 13,
   "metadata": {},
   "outputs": [
    {
     "name": "stdout",
     "output_type": "stream",
     "text": [
      "torch.Size([1, 16, 5, 5])\n"
     ]
    }
   ],
   "source": [
    "x = F.max_pool2d(x,2,2)\n",
    "print(x.shape)"
   ]
  },
  {
   "cell_type": "code",
   "execution_count": 14,
   "metadata": {},
   "outputs": [
    {
     "data": {
      "text/plain": [
       "torch.Size([1, 16, 5, 5])"
      ]
     },
     "execution_count": 14,
     "metadata": {},
     "output_type": "execute_result"
    }
   ],
   "source": [
    "# Feeding into a flat layer\n",
    "x.shape"
   ]
  },
  {
   "cell_type": "code",
   "execution_count": 15,
   "metadata": {},
   "outputs": [
    {
     "data": {
      "text/plain": [
       "torch.Size([1, 400])"
      ]
     },
     "execution_count": 15,
     "metadata": {},
     "output_type": "execute_result"
    }
   ],
   "source": [
    "x.view(-1,16*5*5).shape"
   ]
  },
  {
   "cell_type": "markdown",
   "metadata": {},
   "source": [
    "## Model and Training"
   ]
  },
  {
   "cell_type": "code",
   "execution_count": 16,
   "metadata": {},
   "outputs": [],
   "source": [
    "class ConvolutionalNetwork(nn.Module):\n",
    "    def __init__(self):\n",
    "        super().__init__()\n",
    "        self.conv1 = nn.Conv2d(1, 6, 3, 1)\n",
    "        self.conv2 = nn.Conv2d(6, 16, 3, 1)\n",
    "        self.fc1 = nn.Linear(5*5*16, 120)\n",
    "        self.fc2 = nn.Linear(120, 84)\n",
    "        self.fc3 = nn.Linear(84,10)\n",
    "\n",
    "    def forward(self, X):\n",
    "        X = F.relu(self.conv1(X))\n",
    "        X = F.max_pool2d(X, 2, 2)\n",
    "        X = F.relu(self.conv2(X))\n",
    "        X = F.max_pool2d(X, 2, 2)\n",
    "        X = X.view(-1, 5*5*16)\n",
    "        X = F.relu(self.fc1(X))\n",
    "        X = F.relu(self.fc2(X))\n",
    "        X = self.fc3(X)\n",
    "        return F.log_softmax(X, dim=1)"
   ]
  },
  {
   "cell_type": "code",
   "execution_count": 17,
   "metadata": {},
   "outputs": [
    {
     "name": "stdout",
     "output_type": "stream",
     "text": [
      "ConvolutionalNetwork(\n",
      "  (conv1): Conv2d(1, 6, kernel_size=(3, 3), stride=(1, 1))\n",
      "  (conv2): Conv2d(6, 16, kernel_size=(3, 3), stride=(1, 1))\n",
      "  (fc1): Linear(in_features=400, out_features=120, bias=True)\n",
      "  (fc2): Linear(in_features=120, out_features=84, bias=True)\n",
      "  (fc3): Linear(in_features=84, out_features=10, bias=True)\n",
      ")\n"
     ]
    }
   ],
   "source": [
    "torch.manual_seed(42)\n",
    "model = ConvolutionalNetwork()\n",
    "print(model)"
   ]
  },
  {
   "cell_type": "code",
   "execution_count": 18,
   "metadata": {},
   "outputs": [
    {
     "name": "stdout",
     "output_type": "stream",
     "text": [
      "54\n",
      "6\n",
      "864\n",
      "16\n",
      "48000\n",
      "120\n",
      "10080\n",
      "84\n",
      "840\n",
      "10\n",
      "Total parameters: 60074\n"
     ]
    }
   ],
   "source": [
    "total_parameters = 0\n",
    "for param in model.parameters():\n",
    "    total_parameters += param.numel()\n",
    "    print(param.numel()) # number of elements\n",
    "print(f'Total parameters: {total_parameters}')"
   ]
  },
  {
   "cell_type": "code",
   "execution_count": 19,
   "metadata": {},
   "outputs": [],
   "source": [
    "criterion = nn.CrossEntropyLoss()\n",
    "optimizer = torch.optim.Adam(model.parameters(),lr=0.001)"
   ]
  },
  {
   "cell_type": "code",
   "execution_count": 20,
   "metadata": {},
   "outputs": [
    {
     "name": "stdout",
     "output_type": "stream",
     "text": [
      "epoch:  0  batch:  600 [  6000/60000]  loss: 0.22537120  accuracy:  78.450%\n",
      "epoch:  0  batch: 1200 [ 12000/60000]  loss: 0.53863007  accuracy:  85.575%\n",
      "epoch:  0  batch: 1800 [ 18000/60000]  loss: 0.03859486  accuracy:  88.672%\n",
      "epoch:  0  batch: 2400 [ 24000/60000]  loss: 0.01826747  accuracy:  90.463%\n",
      "epoch:  0  batch: 3000 [ 30000/60000]  loss: 0.00651854  accuracy:  91.607%\n",
      "epoch:  0  batch: 3600 [ 36000/60000]  loss: 0.01039703  accuracy:  92.428%\n",
      "epoch:  0  batch: 4200 [ 42000/60000]  loss: 0.04001389  accuracy:  93.033%\n",
      "epoch:  0  batch: 4800 [ 48000/60000]  loss: 0.00153118  accuracy:  93.560%\n",
      "epoch:  0  batch: 5400 [ 54000/60000]  loss: 0.00019063  accuracy:  93.993%\n",
      "epoch:  0  batch: 6000 [ 60000/60000]  loss: 0.00061045  accuracy:  94.335%\n",
      "epoch:  1  batch:  600 [  6000/60000]  loss: 0.07899837  accuracy:  97.967%\n",
      "epoch:  1  batch: 1200 [ 12000/60000]  loss: 0.18192156  accuracy:  97.900%\n",
      "epoch:  1  batch: 1800 [ 18000/60000]  loss: 0.19101562  accuracy:  97.922%\n",
      "epoch:  1  batch: 2400 [ 24000/60000]  loss: 0.00027084  accuracy:  97.992%\n",
      "epoch:  1  batch: 3000 [ 30000/60000]  loss: 0.00288952  accuracy:  97.960%\n",
      "epoch:  1  batch: 3600 [ 36000/60000]  loss: 0.21982062  accuracy:  97.986%\n",
      "epoch:  1  batch: 4200 [ 42000/60000]  loss: 0.00431152  accuracy:  98.021%\n",
      "epoch:  1  batch: 4800 [ 48000/60000]  loss: 0.23087685  accuracy:  98.013%\n",
      "epoch:  1  batch: 5400 [ 54000/60000]  loss: 0.04610074  accuracy:  98.072%\n",
      "epoch:  1  batch: 6000 [ 60000/60000]  loss: 0.00358025  accuracy:  98.080%\n",
      "epoch:  2  batch:  600 [  6000/60000]  loss: 0.00579371  accuracy:  98.700%\n",
      "epoch:  2  batch: 1200 [ 12000/60000]  loss: 0.00072119  accuracy:  98.592%\n",
      "epoch:  2  batch: 1800 [ 18000/60000]  loss: 0.00042921  accuracy:  98.528%\n",
      "epoch:  2  batch: 2400 [ 24000/60000]  loss: 0.00047087  accuracy:  98.438%\n",
      "epoch:  2  batch: 3000 [ 30000/60000]  loss: 0.01802594  accuracy:  98.427%\n",
      "epoch:  2  batch: 3600 [ 36000/60000]  loss: 0.00021971  accuracy:  98.467%\n",
      "epoch:  2  batch: 4200 [ 42000/60000]  loss: 0.00057263  accuracy:  98.467%\n",
      "epoch:  2  batch: 4800 [ 48000/60000]  loss: 0.00044480  accuracy:  98.496%\n",
      "epoch:  2  batch: 5400 [ 54000/60000]  loss: 0.00058371  accuracy:  98.531%\n",
      "epoch:  2  batch: 6000 [ 60000/60000]  loss: 0.00009994  accuracy:  98.562%\n",
      "epoch:  3  batch:  600 [  6000/60000]  loss: 0.03942700  accuracy:  98.917%\n",
      "epoch:  3  batch: 1200 [ 12000/60000]  loss: 0.00819028  accuracy:  98.833%\n",
      "epoch:  3  batch: 1800 [ 18000/60000]  loss: 0.00257506  accuracy:  98.778%\n",
      "epoch:  3  batch: 2400 [ 24000/60000]  loss: 0.00045551  accuracy:  98.858%\n",
      "epoch:  3  batch: 3000 [ 30000/60000]  loss: 0.00002050  accuracy:  98.883%\n",
      "epoch:  3  batch: 3600 [ 36000/60000]  loss: 0.00045058  accuracy:  98.861%\n",
      "epoch:  3  batch: 4200 [ 42000/60000]  loss: 0.01551586  accuracy:  98.836%\n",
      "epoch:  3  batch: 4800 [ 48000/60000]  loss: 0.00930006  accuracy:  98.862%\n",
      "epoch:  3  batch: 5400 [ 54000/60000]  loss: 0.00044230  accuracy:  98.861%\n",
      "epoch:  3  batch: 6000 [ 60000/60000]  loss: 0.00108414  accuracy:  98.828%\n",
      "epoch:  4  batch:  600 [  6000/60000]  loss: 0.00138012  accuracy:  99.100%\n",
      "epoch:  4  batch: 1200 [ 12000/60000]  loss: 0.17552868  accuracy:  99.125%\n",
      "epoch:  4  batch: 1800 [ 18000/60000]  loss: 0.00297487  accuracy:  99.094%\n",
      "epoch:  4  batch: 2400 [ 24000/60000]  loss: 0.00003171  accuracy:  99.150%\n",
      "epoch:  4  batch: 3000 [ 30000/60000]  loss: 0.00080865  accuracy:  99.080%\n",
      "epoch:  4  batch: 3600 [ 36000/60000]  loss: 0.00086756  accuracy:  99.117%\n",
      "epoch:  4  batch: 4200 [ 42000/60000]  loss: 0.00228975  accuracy:  99.086%\n",
      "epoch:  4  batch: 4800 [ 48000/60000]  loss: 0.00043013  accuracy:  99.062%\n",
      "epoch:  4  batch: 5400 [ 54000/60000]  loss: 0.32260221  accuracy:  99.063%\n",
      "epoch:  4  batch: 6000 [ 60000/60000]  loss: 0.02066191  accuracy:  99.063%\n",
      "\n",
      "Duration: 509 seconds\n"
     ]
    }
   ],
   "source": [
    "import time\n",
    "start_time = time.time()\n",
    "\n",
    "epochs = 5\n",
    "train_losses = []\n",
    "test_losses = []\n",
    "train_correct = []\n",
    "test_correct = []\n",
    "\n",
    "for i in range(epochs):\n",
    "    trn_corr = 0\n",
    "    tst_corr = 0\n",
    "    \n",
    "    # Run the training batches\n",
    "    for b, (X_train, y_train) in enumerate(train_loader):\n",
    "        b+=1\n",
    "        \n",
    "        # Apply the model\n",
    "        y_pred = model(X_train)  # we don't flatten X-train here\n",
    "        loss = criterion(y_pred, y_train)\n",
    " \n",
    "        # Tally the number of correct predictions\n",
    "        predicted = torch.max(y_pred.data, 1)[1]\n",
    "        batch_corr = (predicted == y_train).sum()\n",
    "        trn_corr += batch_corr\n",
    "        \n",
    "        # Update parameters\n",
    "        optimizer.zero_grad()\n",
    "        loss.backward()\n",
    "        optimizer.step()\n",
    "        \n",
    "        # Print interim results\n",
    "        if b%600 == 0:\n",
    "            print(f'epoch: {i:2}  batch: {b:4} [{10*b:6}/60000]  loss: {loss.item():10.8f}  \\\n",
    "accuracy: {trn_corr.item()*100/(10*b):7.3f}%')\n",
    "        \n",
    "    train_losses.append(loss)\n",
    "    train_correct.append(trn_corr)\n",
    "        \n",
    "    # Run the testing batches\n",
    "    with torch.no_grad():\n",
    "        for b, (X_test, y_test) in enumerate(test_loader):\n",
    "\n",
    "            # Apply the model\n",
    "            y_val = model(X_test)\n",
    "\n",
    "            # Tally the number of correct predictions\n",
    "            predicted = torch.max(y_val.data, 1)[1] \n",
    "            tst_corr += (predicted == y_test).sum()\n",
    "            \n",
    "    loss = criterion(y_val, y_test)\n",
    "    test_losses.append(loss)\n",
    "    test_correct.append(tst_corr)\n",
    "        \n",
    "print(f'\\nDuration: {time.time() - start_time:.0f} seconds') # print the time elapsed            "
   ]
  },
  {
   "cell_type": "code",
   "execution_count": 21,
   "metadata": {},
   "outputs": [],
   "source": [
    "torch.save(model.state_dict(),'MNIST_CNN.pt')"
   ]
  },
  {
   "cell_type": "code",
   "execution_count": 22,
   "metadata": {},
   "outputs": [
    {
     "data": {
      "text/plain": [
       "<matplotlib.legend.Legend at 0x1f579715048>"
      ]
     },
     "execution_count": 22,
     "metadata": {},
     "output_type": "execute_result"
    },
    {
     "data": {
      "image/png": "[encoded data removed]",
      "text/plain": [
       "<Figure size 640x480 with 1 Axes>"
      ]
     },
     "metadata": {},
     "output_type": "display_data"
    }
   ],
   "source": [
    "plt.plot(train_losses,label='Train Loss')\n",
    "plt.plot(test_losses,label='Validation Loss')\n",
    "plt.title(\"LOSS AT EPOCH\")\n",
    "plt.legend()"
   ]
  },
  {
   "cell_type": "code",
   "execution_count": 23,
   "metadata": {},
   "outputs": [
    {
     "data": {
      "text/plain": [
       "<matplotlib.legend.Legend at 0x1f508571c88>"
      ]
     },
     "execution_count": 23,
     "metadata": {},
     "output_type": "execute_result"
    },
    {
     "data": {
      "image/png": "[encoded data removed]",
      "text/plain": [
       "<Figure size 640x480 with 1 Axes>"
      ]
     },
     "metadata": {},
     "output_type": "display_data"
    }
   ],
   "source": [
    "plt.plot([t/600 for t in train_correct],label='Training Accuracy')\n",
    "plt.plot([t/100 for t in test_correct], label='Validation Accuracy')\n",
    "plt.title('Accuracy at the end of the epoch')\n",
    "plt.legend()"
   ]
  },
  {
   "cell_type": "code",
   "execution_count": 42,
   "metadata": {},
   "outputs": [],
   "source": [
    "test_load_all  = DataLoader(test_data,batch_size=10000,shuffle=False)\n",
    "\n",
    "with torch.no_grad():\n",
    "    correct = 0\n",
    "\n",
    "    for X_test,y_test in test_load_all:\n",
    "        y_val = model(X_test)\n",
    "        predicted = torch.max(y_val,1)[1]\n",
    "        correct += (predicted == y_test).sum()\n",
    "        "
   ]
  },
  {
   "cell_type": "code",
   "execution_count": 43,
   "metadata": {},
   "outputs": [
    {
     "data": {
      "text/plain": [
       "98.46000000000001"
      ]
     },
     "execution_count": 43,
     "metadata": {},
     "output_type": "execute_result"
    }
   ],
   "source": [
    "correct.item()/len(test_data)*100"
   ]
  },
  {
   "cell_type": "code",
   "execution_count": 44,
   "metadata": {},
   "outputs": [
    {
     "name": "stdout",
     "output_type": "stream",
     "text": [
      "[[   0    1    2    3    4    5    6    7    8    9]]\n",
      "\n",
      "[[ 977    0    1    1    0    4    8    2   13    6]\n",
      " [   1 1131    0    0    1    0    3    4    1    0]\n",
      " [   1    0 1024    0    2    0    0   12    3    0]\n",
      " [   0    0    0 1005    0   12    1    1    1    3]\n",
      " [   0    0    1    0  965    0    1    0    1    3]\n",
      " [   0    1    0    1    0  864    2    0    1    2]\n",
      " [   0    0    0    0    1    5  942    0    0    0]\n",
      " [   1    1    4    1    0    1    0 1004    2    3]\n",
      " [   0    2    2    2    4    5    1    1  951    9]\n",
      " [   0    0    0    0    9    1    0    4    1  983]]\n"
     ]
    }
   ],
   "source": [
    "# print a row of values for reference\n",
    "np.set_printoptions(formatter=dict(int=lambda x: f'{x:4}'))\n",
    "print(np.arange(10).reshape(1,10))\n",
    "print()\n",
    "\n",
    "# print the confusion matrix\n",
    "confusion_mat = confusion_matrix(predicted.view(-1), y_test.view(-1))\n",
    "\n",
    "print(confusion_mat)\n"
   ]
  },
  {
   "cell_type": "code",
   "execution_count": 64,
   "metadata": {},
   "outputs": [
    {
     "name": "stdout",
     "output_type": "stream",
     "text": [
      "The number in the image is : 9\n"
     ]
    },
    {
     "data": {
      "image/png": "[encoded data removed]",
      "text/plain": [
       "<Figure size 640x480 with 1 Axes>"
      ]
     },
     "metadata": {},
     "output_type": "display_data"
    }
   ],
   "source": [
    "chosen_index = int(input(\"Choose a number between 1 to 10,000: \"))\n",
    "plt.imshow(test_data[chosen_index][0].reshape(28,28))\n",
    "model.eval()\n",
    "with torch.no_grad():\n",
    "    new_pred = model(test_data[chosen_index][0].view(1,1,28,28))\n",
    "print(f\"The number in the image is : {new_pred.argmax().item()}\")"
   ]
  },
  {
   "cell_type": "code",
   "execution_count": 57,
   "metadata": {},
   "outputs": [],
   "source": []
  },
  {
   "cell_type": "code",
   "execution_count": 56,
   "metadata": {},
   "outputs": [
    {
     "data": {
      "text/plain": [
       "9"
      ]
     },
     "execution_count": 56,
     "metadata": {},
     "output_type": "execute_result"
    }
   ],
   "source": []
  }
 ],
 "metadata": {
  "kernelspec": {
   "display_name": "Python 3.7.3 ('pytorchenv')",
   "language": "python",
   "name": "python3"
  },
  "language_info": {
   "codemirror_mode": {
    "name": "ipython",
    "version": 3
   },
   "file_extension": ".py",
   "mimetype": "text/x-python",
   "name": "python",
   "nbconvert_exporter": "python",
   "pygments_lexer": "ipython3",
   "version": "3.7.3"
  },
  "orig_nbformat": 4,
  "vscode": {
   "interpreter": {
    "hash": "49b76041c373911fded19fce7465faa07019cc579c640fc8bbed67f9fbbaffdf"
   }
  }
 },
 "nbformat": 4,
 "nbformat_minor": 2
}
